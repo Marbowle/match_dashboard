{
 "cells": [
  {
   "cell_type": "code",
   "execution_count": 3,
   "id": "4dbd9e03",
   "metadata": {},
   "outputs": [],
   "source": [
    "import math \n",
    "import pandas as pd \n",
    "\n",
    "import matplotlib.pyplot as plt \n",
    "\n",
    "from PIL import Image \n",
    "from statsbombpy import sb \n",
    "from mplsoccer import VerticalPitch"
   ]
  },
  {
   "cell_type": "code",
   "execution_count": 8,
   "id": "0ad8ee0f",
   "metadata": {},
   "outputs": [],
   "source": [
    "df = sb.events(match_id=3869685).sort_values(by=['index'])"
   ]
  },
  {
   "cell_type": "code",
   "execution_count": 10,
   "id": "f1c01ba6",
   "metadata": {},
   "outputs": [],
   "source": [
    "team_1 = df[df['team'] == 'Argentina']\n",
    "team_2 = df[df.team == 'France']"
   ]
  },
  {
   "cell_type": "code",
   "execution_count": null,
   "id": "baeff4d3",
   "metadata": {},
   "outputs": [],
   "source": [
    "FRANCE_COLOR = '#002654'\n",
    "ARGENTINA_COLOR = '#43A1D5'\n",
    "\n",
    "ARGENTINA_TEAM_ID = 779 \n",
    "FRANCE_TEAM_ID = 771"
   ]
  },
  {
   "cell_type": "code",
   "execution_count": 11,
   "id": "662a0326",
   "metadata": {},
   "outputs": [],
   "source": [
    "df = df [df.period < 5] # w stasbomb rzuty karne są umieszczane w 5 okresie jeżeli jakiekolwiek pojawiły się w tym czasie"
   ]
  },
  {
   "cell_type": "code",
   "execution_count": null,
   "id": "7d240a6e",
   "metadata": {},
   "outputs": [],
   "source": []
  },
  {
   "cell_type": "code",
   "execution_count": null,
   "id": "1b6ddd4d",
   "metadata": {},
   "outputs": [],
   "source": []
  },
  {
   "cell_type": "code",
   "execution_count": null,
   "id": "c694ec11",
   "metadata": {},
   "outputs": [],
   "source": []
  },
  {
   "cell_type": "code",
   "execution_count": null,
   "id": "044259cd",
   "metadata": {},
   "outputs": [],
   "source": []
  },
  {
   "cell_type": "code",
   "execution_count": null,
   "id": "90e890d3",
   "metadata": {},
   "outputs": [],
   "source": []
  },
  {
   "cell_type": "code",
   "execution_count": null,
   "id": "e9faec36",
   "metadata": {},
   "outputs": [],
   "source": []
  },
  {
   "cell_type": "code",
   "execution_count": null,
   "id": "faf358c8",
   "metadata": {},
   "outputs": [],
   "source": []
  },
  {
   "cell_type": "code",
   "execution_count": null,
   "id": "9c8a771d",
   "metadata": {},
   "outputs": [],
   "source": []
  }
 ],
 "metadata": {
  "kernelspec": {
   "display_name": "Python 3 (ipykernel)",
   "language": "python",
   "name": "python3"
  },
  "language_info": {
   "codemirror_mode": {
    "name": "ipython",
    "version": 3
   },
   "file_extension": ".py",
   "mimetype": "text/x-python",
   "name": "python",
   "nbconvert_exporter": "python",
   "pygments_lexer": "ipython3",
   "version": "3.11.4"
  }
 },
 "nbformat": 4,
 "nbformat_minor": 5
}
